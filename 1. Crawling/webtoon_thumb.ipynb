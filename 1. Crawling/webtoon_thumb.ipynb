{
 "cells": [
  {
   "cell_type": "markdown",
   "metadata": {},
   "source": [
    "# 썸네일"
   ]
  },
  {
   "cell_type": "code",
   "execution_count": null,
   "metadata": {},
   "outputs": [],
   "source": [
    "import requests, re, os\n",
    "from bs4 import BeautifulSoup\n",
    "from pprint import pprint\n",
    "from urllib.request import urlretrieve\n",
    "\n",
    "\n",
    "try:\n",
    "    if not (os.path.isdir('image')):\n",
    "        os.makedirs(os.path.join('image'))\n",
    "except OSError as e:\n",
    "    if e.errno != errno.EEXIXT:\n",
    "        print('폴더 생성 실패!')\n",
    "        exit()\n",
    "            \n",
    "\n",
    "url = \"https://comic.naver.com/webtoon/weekday.nhn\"\n",
    "req = requests.get(url)\n",
    "soup = BeautifulSoup(req.text, \"html.parser\")\n",
    "\n",
    "title = soup.select('.title')\n",
    "t_IDs = list(map(lambda x: x.get('href').split('titleId=')[1].split('&')[0], title))\n",
    "thumb_list =[]\n",
    "\n",
    "thumb_url = soup.select('div.thumb > a > img')\n",
    "t_Thu =list(map(lambda x: x.get('src'), thumb_url))\n",
    "\n",
    "# for thumb in thumb_url:\n",
    "#     thumb_list.select('src')\n",
    "    \n",
    "print(t_Thu)\n",
    "\n",
    "for n in range(len(t_IDs)):\n",
    "    urlretrieve(t_Thu[n], './image/'+t_IDs[n]+'.jpg')"
   ]
  }
 ],
 "metadata": {
  "kernelspec": {
   "display_name": "Python 3",
   "language": "python",
   "name": "python3"
  },
  "language_info": {
   "codemirror_mode": {
    "name": "ipython",
    "version": 3
   },
   "file_extension": ".py",
   "mimetype": "text/x-python",
   "name": "python",
   "nbconvert_exporter": "python",
   "pygments_lexer": "ipython3",
   "version": "3.7.6"
  }
 },
 "nbformat": 4,
 "nbformat_minor": 4
}
