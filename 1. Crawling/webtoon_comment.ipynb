{
 "cells": [
  {
   "cell_type": "markdown",
   "metadata": {},
   "source": [
    "# 전체 웹툰 댓글 가져오기"
   ]
  },
  {
   "cell_type": "code",
   "execution_count": null,
   "metadata": {
    "scrolled": false
   },
   "outputs": [],
   "source": [
    "import requests\n",
    "from bs4 import BeautifulSoup\n",
    "import json\n",
    "def get_href(soup) :\n",
    "    # 요일별 전체 웹툰 가져오기\n",
    "    \n",
    "    div = soup.find('div', class_ = 'list_area daily_all')\n",
    "    result = []\n",
    "    for a in div.find_all('li'):\n",
    "        result.append(a.find('a')['href'])\n",
    "        \n",
    "    return result\n",
    "\n",
    "def main():\n",
    "    list_href = []\n",
    "\n",
    "    url = \"https://comic.naver.com/webtoon/weekday.nhn\"\n",
    "    result = requests.get(url)\n",
    "    soup = BeautifulSoup(result.text, \"html.parser\")\n",
    "\n",
    "    code = get_code(soup)\n",
    "    code = list(code.keys())\n",
    "    \n",
    "\n",
    "    get_comment(code)\n",
    "\n",
    "if __name__ == \"__main__\":\n",
    "    main()"
   ]
  },
  {
   "cell_type": "markdown",
   "metadata": {},
   "source": [
    "# 코드따오기"
   ]
  },
  {
   "cell_type": "code",
   "execution_count": null,
   "metadata": {},
   "outputs": [],
   "source": [
    "def get_code(soup):\n",
    "    title = soup.select('.title')\n",
    "    t_IDs=list(map(lambda x: x.get('href').split('titleId=')[1].split('&')[0], title))\n",
    "    t_weekdays = list(map(lambda x: x.get('href').split('weekday=')[1], title))\n",
    "    t_names = list(map(lambda x: x.text ,title))\n",
    "\n",
    "    #크롤링이 잘 되었나 확인하기 위함, 총 웹툰 수\n",
    "    data ={}\n",
    "    for i in range(len(t_IDs)):\n",
    "        data[t_IDs[i]] =t_names[i]\n",
    "        \n",
    "        \n",
    "    return(data)"
   ]
  },
  {
   "cell_type": "markdown",
   "metadata": {},
   "source": [
    "# 댓글 가져오기  JSON"
   ]
  },
  {
   "cell_type": "code",
   "execution_count": null,
   "metadata": {},
   "outputs": [],
   "source": [
    "  \n",
    "def get_comment(code):\n",
    "    headers = {\n",
    "        'authority': 'apis.naver.com',\n",
    "        'user-agent': 'Mozilla/5.0 (Windows NT 10.0; Win64; x64) AppleWebKit/537.36 (KHTML, like Gecko) Chrome/84.0.4147.135 Safari/537.36',\n",
    "        'accept': '*/*',\n",
    "        'sec-fetch-site': 'same-site',\n",
    "        'sec-fetch-mode': 'no-cors',\n",
    "        'sec-fetch-dest': 'script',\n",
    "        'referer': 'https://comic.naver.com/comment/comment.nhn?titleId=748105&no=22',\n",
    "        'accept-language': 'ko-KR,ko;q=0.9,en-US;q=0.8,en;q=0.7',\n",
    "        'cookie': 'NRTK=ag#20s_gr#0_ma#-2_si#-2_en#-2_sp#-2; NID_AUT=uCu9XVwzszVbbRRyqhJfBcaf6ZmkaWn8c8j3HTnh5evGiJeQuCCd4KP4WOk8vJ0R; NID_JKL=Bx5L3SR5iqL0LSsQQELWuoLp6kVPZSrh42Uq2L054cM=; ASID=3a78904e00000173065ae2720000004a; MM_NEW=1; NFS=2; MM_NOW_COACH=1; NNB=2WB2COMNMUKV6; _ga=GA1.1.406437722.1593356627; _ga_4BKHBFKFK0=GS1.1.1597672842.2.1.1597672844.58; nx_ssl=2; page_uid=U0kIxlpzCx4sskB4+V4-490774; NID_SES=AAABi9+G8m4uMNubDAMMQMCc+Lh8eaoVk+1qg5RkpHvJ2REsN2cEYvOCClKHqKwkzBFZjYVsKmFNcptW/1ngQPbGYxckWL8RY0JSCMmOXbcXJxruC0QSCN5jXrkLLZ9WooSs1IAh3b+SdbgkpiAW9kvK2fQqL2vbYNT6rI0rCvtwwP7Usn7LwklDNPOE7CGsw3P1iFOglvx9I+NMYOXTuz4xqGTJr/kSxr0zx5o+/xzp+rIhILXexH+gLYAfp30k2YlgtvNuOcdQorLp64JDsQBDAZG41Fqj2Q8G1UqWbyv8pOjWYQKtXBfmtquh/JR+SYfQ1UPQ6kcM5QsMse4rd4MneK0ozGOeXy1CaJjoIp1HJyp4yfxFI1IsCEufI/Go2Yyv6tUDZ32O+89rHyL4Q2+aClR5U7eRJsBgJYzCS8hewtgaEb/KZbsGUZ18LQwq1YZN1dieIwTlYrySb+J15TPB4IgSeNhWJiwUqEnw+U/VEt676hsNVsoONEgtOnSggIx7af3oBkv/vXV7BiZFciz3LKY=; BMR=s=1598497364509&r=https%3A%2F%2Fm.blog.naver.com%2FPostView.nhn%3FblogId%3Dpjt3591oo%26logNo%3D220962168316%26proxyReferer%3Dhttps%3A%252F%252Fwww.google.com%252F&r2=https%3A%2F%2Fwww.google.com%2F',\n",
    "        }\n",
    "\n",
    "    for code in code:\n",
    "        for i in range(1,web_num(code)+1):\n",
    "            params = (\n",
    "                ('ticket', 'comic'),\n",
    "                ('templateId', 'webtoon'),\n",
    "                ('pool', 'cbox3'),\n",
    "                ('_callback', 'jQuery1124003662081780437343_1598497437731'),\n",
    "                ('lang', 'ko'),\n",
    "                ('country', 'KR'),\n",
    "                ('objectId', str(code)+'_'+str(i)),\n",
    "                ('categoryId', ''),\n",
    "                ('pageSize', '15'),\n",
    "                ('indexSize', '10'),\n",
    "                ('groupId', ''),\n",
    "                ('listType', 'OBJECT'),\n",
    "                ('pageType', 'default'),\n",
    "                ('page', '1'),\n",
    "                ('initialize', 'true'),\n",
    "                ('userType', ''),\n",
    "                ('useAltSort', 'true'),\n",
    "                ('replyPageSize', '10'),\n",
    "                ('_', '1598497437732'),\n",
    "            )\n",
    "\n",
    "            response = requests.get('https://apis.naver.com/commentBox/cbox/web_naver_list_jsonp.json', headers=headers, params=params)\n",
    "            res = response.text \n",
    "            jdict = ''\n",
    "            for i in range(len(res)) :\n",
    "                if res[i] == '(' :\n",
    "                    jdict = res[i + 1: -2]\n",
    "                    break;\n",
    "            jdict = json.loads(jdict)\n",
    "        #     print(jdict)\n",
    "            jdict = jdict['result']['commentList']\n",
    "\n",
    "            for i in jdict :\n",
    "                print(code + ' ' + i['contents'])\n"
   ]
  },
  {
   "cell_type": "markdown",
   "metadata": {},
   "source": [
    "# 편수 확인"
   ]
  },
  {
   "cell_type": "code",
   "execution_count": null,
   "metadata": {},
   "outputs": [],
   "source": [
    "def web_num(code):\n",
    "    url = \"https://comic.naver.com/webtoon/list.nhn?titleId=\"+str(code)\n",
    "    req = requests.get(url)\n",
    "    soup = BeautifulSoup(req.text, \"html.parser\")\n",
    "\n",
    "    num_tag = soup.select(' table.viewList > tr > td.title > a')\n",
    "\n",
    "\n",
    "    t_num = list(map(lambda x: x.get('href').split('no=')[1].split('&')[0], num_tag))\n",
    "\n",
    "\n",
    "    max = t_num[0]\n",
    "    web_num = int(max)\n",
    "    return web_num"
   ]
  },
  {
   "cell_type": "code",
   "execution_count": null,
   "metadata": {},
   "outputs": [],
   "source": []
  }
 ],
 "metadata": {
  "kernelspec": {
   "display_name": "Python 3",
   "language": "python",
   "name": "python3"
  },
  "language_info": {
   "codemirror_mode": {
    "name": "ipython",
    "version": 3
   },
   "file_extension": ".py",
   "mimetype": "text/x-python",
   "name": "python",
   "nbconvert_exporter": "python",
   "pygments_lexer": "ipython3",
   "version": "3.7.6"
  }
 },
 "nbformat": 4,
 "nbformat_minor": 4
}
