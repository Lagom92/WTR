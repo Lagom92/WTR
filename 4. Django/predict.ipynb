{
 "metadata": {
  "language_info": {
   "codemirror_mode": {
    "name": "ipython",
    "version": 3
   },
   "file_extension": ".py",
   "mimetype": "text/x-python",
   "name": "python",
   "nbconvert_exporter": "python",
   "pygments_lexer": "ipython3",
   "version": "3.7.7-final"
  },
  "orig_nbformat": 2,
  "kernelspec": {
   "name": "python_defaultSpec_1598771696403",
   "display_name": "Python 3.7.7 64-bit ('study': conda)"
  }
 },
 "nbformat": 4,
 "nbformat_minor": 2,
 "cells": [
  {
   "cell_type": "code",
   "execution_count": 2,
   "metadata": {},
   "outputs": [],
   "source": [
    "import pandas as pd\n",
    "import numpy as np\n",
    "from math import log\n",
    "from numpy import dot\n",
    "from numpy.linalg import norm\n",
    "from nltk.tokenize import WordPunctTokenizer\n",
    "\n",
    "from eunjeon import Mecab"
   ]
  },
  {
   "cell_type": "code",
   "execution_count": 6,
   "metadata": {},
   "outputs": [
    {
     "output_type": "execute_result",
     "data": {
      "text/plain": "       코드               제목    점수  작가        장르  \\\n0  718020            귀곡의 문  9.99  삼촌  스토리, 드라마   \n1  745589           범이올시다!  9.98   해  에피소드, 일상   \n2  316909  그 판타지 세계에서 사는 법  9.98  촌장  스토리, 판타지   \n3  746285          동트는 로맨스  9.98  유월  스토리, 로맨스   \n4  708452             냐한남자  9.98  올소  스토리, 로맨스   \n\n                                               추가 정보  \\\n0              귀신소굴로 유명한 삼도천동의 흉가,평범한(?) 세입자들의 일상 개그   \n1  호통 치는 영희 할머니와 무뚝뚝 소녀 방실이 앞에 나타난 정체불명의 고양...아니 ...   \n2   용사가 마왕을 물리친 후 100년 뒤,과거의 상처를 잊은 그 판타지 세계 주민들 이야기   \n3  필름이 끊긴 사이, 짝사랑 후배와 무슨 일이...?!어리둥절해도 어쨌든 해는 뜬다,...   \n4                           냥줍을 잘못하면...남자친구가 생깁니다(?)   \n\n                                              첫 회 링크  \n0  https://comic.naver.com/webtoon/detail.nhn?tit...  \n1  https://comic.naver.com/webtoon/detail.nhn?tit...  \n2  https://comic.naver.com/webtoon/detail.nhn?tit...  \n3  https://comic.naver.com/webtoon/detail.nhn?tit...  \n4  https://comic.naver.com/webtoon/detail.nhn?tit...  ",
      "text/html": "<div>\n<style scoped>\n    .dataframe tbody tr th:only-of-type {\n        vertical-align: middle;\n    }\n\n    .dataframe tbody tr th {\n        vertical-align: top;\n    }\n\n    .dataframe thead th {\n        text-align: right;\n    }\n</style>\n<table border=\"1\" class=\"dataframe\">\n  <thead>\n    <tr style=\"text-align: right;\">\n      <th></th>\n      <th>코드</th>\n      <th>제목</th>\n      <th>점수</th>\n      <th>작가</th>\n      <th>장르</th>\n      <th>추가 정보</th>\n      <th>첫 회 링크</th>\n    </tr>\n  </thead>\n  <tbody>\n    <tr>\n      <th>0</th>\n      <td>718020</td>\n      <td>귀곡의 문</td>\n      <td>9.99</td>\n      <td>삼촌</td>\n      <td>스토리, 드라마</td>\n      <td>귀신소굴로 유명한 삼도천동의 흉가,평범한(?) 세입자들의 일상 개그</td>\n      <td>https://comic.naver.com/webtoon/detail.nhn?tit...</td>\n    </tr>\n    <tr>\n      <th>1</th>\n      <td>745589</td>\n      <td>범이올시다!</td>\n      <td>9.98</td>\n      <td>해</td>\n      <td>에피소드, 일상</td>\n      <td>호통 치는 영희 할머니와 무뚝뚝 소녀 방실이 앞에 나타난 정체불명의 고양...아니 ...</td>\n      <td>https://comic.naver.com/webtoon/detail.nhn?tit...</td>\n    </tr>\n    <tr>\n      <th>2</th>\n      <td>316909</td>\n      <td>그 판타지 세계에서 사는 법</td>\n      <td>9.98</td>\n      <td>촌장</td>\n      <td>스토리, 판타지</td>\n      <td>용사가 마왕을 물리친 후 100년 뒤,과거의 상처를 잊은 그 판타지 세계 주민들 이야기</td>\n      <td>https://comic.naver.com/webtoon/detail.nhn?tit...</td>\n    </tr>\n    <tr>\n      <th>3</th>\n      <td>746285</td>\n      <td>동트는 로맨스</td>\n      <td>9.98</td>\n      <td>유월</td>\n      <td>스토리, 로맨스</td>\n      <td>필름이 끊긴 사이, 짝사랑 후배와 무슨 일이...?!어리둥절해도 어쨌든 해는 뜬다,...</td>\n      <td>https://comic.naver.com/webtoon/detail.nhn?tit...</td>\n    </tr>\n    <tr>\n      <th>4</th>\n      <td>708452</td>\n      <td>냐한남자</td>\n      <td>9.98</td>\n      <td>올소</td>\n      <td>스토리, 로맨스</td>\n      <td>냥줍을 잘못하면...남자친구가 생깁니다(?)</td>\n      <td>https://comic.naver.com/webtoon/detail.nhn?tit...</td>\n    </tr>\n  </tbody>\n</table>\n</div>"
     },
     "metadata": {},
     "execution_count": 6
    }
   ],
   "source": [
    "df = pd.read_csv(\"./static/csv_data/webtoon_detail.csv\")\n",
    "\n",
    "df.head()"
   ]
  },
  {
   "cell_type": "code",
   "execution_count": 7,
   "metadata": {},
   "outputs": [],
   "source": [
    "vec_data = pd.read_csv(\"static/csv_data/vec_data.csv\", header=None)\n",
    "vec_data = vec_data.fillna(\"\")\n",
    "vec_array_list = vec_data[0].tolist()\n",
    "# vec_array_data"
   ]
  },
  {
   "cell_type": "code",
   "execution_count": 46,
   "metadata": {},
   "outputs": [],
   "source": [
    "wt_id = int('316909')\n",
    "\n",
    "num = df[df['코드'] == wt_id].index[0]"
   ]
  },
  {
   "cell_type": "code",
   "execution_count": 49,
   "metadata": {},
   "outputs": [
    {
     "output_type": "execute_result",
     "data": {
      "text/plain": "['자전거', '자현', '자현']"
     },
     "metadata": {},
     "execution_count": 49
    }
   ],
   "source": [
    "# token_list = WordPunctTokenizer().tokenize(vec_array_list[num])\n",
    "token_list = Mecab().nouns(vec_array_list[num])\n",
    "token_list"
   ]
  },
  {
   "cell_type": "code",
   "execution_count": 52,
   "metadata": {},
   "outputs": [
    {
     "output_type": "execute_result",
     "data": {
      "text/plain": "\"시간이 사람 게임 7층 '아\""
     },
     "metadata": {},
     "execution_count": 52
    }
   ],
   "source": [
    "vec_array_list[5]"
   ]
  },
  {
   "cell_type": "code",
   "execution_count": 3,
   "metadata": {},
   "outputs": [],
   "source": [
    "vec_data = pd.read_csv(\"static/csv_data/vec_data.csv\",names =['댓글'])#csv파일을 불러와 사용가능하도록 처리하는 과정입니다.\n",
    "vec_data= vec_data.fillna('')\n",
    "vec_array_data = np.array(vec_data['댓글'])\n",
    "vec_array_list = []\n",
    "for i in range(len(vec_array_data)): # 선택한 댓글을 하나의 리스트 변경\n",
    "        vec_array_list.append(vec_array_data[i])"
   ]
  },
  {
   "cell_type": "code",
   "execution_count": 8,
   "metadata": {},
   "outputs": [],
   "source": [
    "# vec_array_data\n",
    "vec_data = pd.read_csv(\"static/csv_data/vec_data.csv\", header=None)\n",
    "vec_data = vec_data.fillna(\"\")\n",
    "vec_array_list = vec_data[0].tolist()\n",
    "# vec_array_data"
   ]
  },
  {
   "cell_type": "code",
   "execution_count": 10,
   "metadata": {},
   "outputs": [
    {
     "output_type": "execute_result",
     "data": {
      "text/plain": "                        0\n0      장안철 '아니 ㅋㅋ '근데 김진우\n1         수아 라시현 군대 그냥 사람\n2      자전거 자현이 '저 그냥 '자현이\n3         나리 유나 친구 선지 '나리\n4        수정이 재호 다시 사람 '재호\n..                    ...\n338        현우 '아 사람 그냥 우리\n339  불안해정말이지 '아니 그림 여주 사람\n340     '저 '아니 '와 아니라 주인공\n341       초미 고양이 강수 \\\\ '아\n342     보라 현우 '아니 '작가님 그냥\n\n[343 rows x 1 columns]",
      "text/html": "<div>\n<style scoped>\n    .dataframe tbody tr th:only-of-type {\n        vertical-align: middle;\n    }\n\n    .dataframe tbody tr th {\n        vertical-align: top;\n    }\n\n    .dataframe thead th {\n        text-align: right;\n    }\n</style>\n<table border=\"1\" class=\"dataframe\">\n  <thead>\n    <tr style=\"text-align: right;\">\n      <th></th>\n      <th>0</th>\n    </tr>\n  </thead>\n  <tbody>\n    <tr>\n      <th>0</th>\n      <td>장안철 '아니 ㅋㅋ '근데 김진우</td>\n    </tr>\n    <tr>\n      <th>1</th>\n      <td>수아 라시현 군대 그냥 사람</td>\n    </tr>\n    <tr>\n      <th>2</th>\n      <td>자전거 자현이 '저 그냥 '자현이</td>\n    </tr>\n    <tr>\n      <th>3</th>\n      <td>나리 유나 친구 선지 '나리</td>\n    </tr>\n    <tr>\n      <th>4</th>\n      <td>수정이 재호 다시 사람 '재호</td>\n    </tr>\n    <tr>\n      <th>...</th>\n      <td>...</td>\n    </tr>\n    <tr>\n      <th>338</th>\n      <td>현우 '아 사람 그냥 우리</td>\n    </tr>\n    <tr>\n      <th>339</th>\n      <td>불안해정말이지 '아니 그림 여주 사람</td>\n    </tr>\n    <tr>\n      <th>340</th>\n      <td>'저 '아니 '와 아니라 주인공</td>\n    </tr>\n    <tr>\n      <th>341</th>\n      <td>초미 고양이 강수 \\\\ '아</td>\n    </tr>\n    <tr>\n      <th>342</th>\n      <td>보라 현우 '아니 '작가님 그냥</td>\n    </tr>\n  </tbody>\n</table>\n<p>343 rows × 1 columns</p>\n</div>"
     },
     "metadata": {},
     "execution_count": 10
    }
   ],
   "source": [
    "pd.read_csv(\"static/csv_data/vec_data.csv\", header=None)"
   ]
  },
  {
   "cell_type": "code",
   "execution_count": null,
   "metadata": {},
   "outputs": [],
   "source": []
  }
 ]
}